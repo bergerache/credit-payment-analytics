{
 "cells": [
  {
   "cell_type": "code",
   "execution_count": 2,
   "metadata": {},
   "outputs": [],
   "source": [
    "import pandas as pd\n",
    "import numpy as np\n",
    "\n",
    "pd.set_option('display.max_columns', None)\n",
    "pd.set_option('display.max_rows', 100)"
   ]
  },
  {
   "cell_type": "code",
   "execution_count": 3,
   "metadata": {},
   "outputs": [
    {
     "data": {
      "text/plain": [
       "(30000, 24)"
      ]
     },
     "execution_count": 3,
     "metadata": {},
     "output_type": "execute_result"
    }
   ],
   "source": [
    "df = pd.read_csv('~/Downloads/UCI_Credit_Card.csv')\n",
    "df.shape"
   ]
  },
  {
   "cell_type": "code",
   "execution_count": 4,
   "metadata": {},
   "outputs": [
    {
     "name": "stdout",
     "output_type": "stream",
     "text": [
      "<class 'pandas.core.frame.DataFrame'>\n",
      "RangeIndex: 30000 entries, 0 to 29999\n",
      "Data columns (total 24 columns):\n",
      " #   Column     Non-Null Count  Dtype  \n",
      "---  ------     --------------  -----  \n",
      " 0   ID         30000 non-null  int64  \n",
      " 1   LIMIT_BAL  30000 non-null  float64\n",
      " 2   SEX        30000 non-null  int64  \n",
      " 3   EDUCATION  30000 non-null  int64  \n",
      " 4   MARRIAGE   30000 non-null  int64  \n",
      " 5   AGE        30000 non-null  int64  \n",
      " 6   PAY_0      30000 non-null  int64  \n",
      " 7   PAY_2      30000 non-null  int64  \n",
      " 8   PAY_3      30000 non-null  int64  \n",
      " 9   PAY_4      30000 non-null  int64  \n",
      " 10  PAY_5      30000 non-null  int64  \n",
      " 11  PAY_6      30000 non-null  int64  \n",
      " 12  BILL_AMT1  30000 non-null  float64\n",
      " 13  BILL_AMT2  30000 non-null  float64\n",
      " 14  BILL_AMT3  30000 non-null  float64\n",
      " 15  BILL_AMT4  30000 non-null  float64\n",
      " 16  BILL_AMT5  30000 non-null  float64\n",
      " 17  BILL_AMT6  30000 non-null  float64\n",
      " 18  PAY_AMT1   30000 non-null  float64\n",
      " 19  PAY_AMT2   30000 non-null  float64\n",
      " 20  PAY_AMT3   30000 non-null  float64\n",
      " 21  PAY_AMT4   30000 non-null  float64\n",
      " 22  PAY_AMT5   30000 non-null  float64\n",
      " 23  PAY_AMT6   30000 non-null  float64\n",
      "dtypes: float64(13), int64(11)\n",
      "memory usage: 5.5 MB\n"
     ]
    }
   ],
   "source": [
    "df.info()"
   ]
  },
  {
   "cell_type": "code",
   "execution_count": 5,
   "metadata": {},
   "outputs": [
    {
     "data": {
      "text/html": [
       "<div>\n",
       "<style scoped>\n",
       "    .dataframe tbody tr th:only-of-type {\n",
       "        vertical-align: middle;\n",
       "    }\n",
       "\n",
       "    .dataframe tbody tr th {\n",
       "        vertical-align: top;\n",
       "    }\n",
       "\n",
       "    .dataframe thead th {\n",
       "        text-align: right;\n",
       "    }\n",
       "</style>\n",
       "<table border=\"1\" class=\"dataframe\">\n",
       "  <thead>\n",
       "    <tr style=\"text-align: right;\">\n",
       "      <th></th>\n",
       "      <th>ID</th>\n",
       "      <th>LIMIT_BAL</th>\n",
       "      <th>SEX</th>\n",
       "      <th>EDUCATION</th>\n",
       "      <th>MARRIAGE</th>\n",
       "      <th>AGE</th>\n",
       "      <th>PAY_0</th>\n",
       "      <th>PAY_2</th>\n",
       "      <th>PAY_3</th>\n",
       "      <th>PAY_4</th>\n",
       "      <th>PAY_5</th>\n",
       "      <th>PAY_6</th>\n",
       "      <th>BILL_AMT1</th>\n",
       "      <th>BILL_AMT2</th>\n",
       "      <th>BILL_AMT3</th>\n",
       "      <th>BILL_AMT4</th>\n",
       "      <th>BILL_AMT5</th>\n",
       "      <th>BILL_AMT6</th>\n",
       "      <th>PAY_AMT1</th>\n",
       "      <th>PAY_AMT2</th>\n",
       "      <th>PAY_AMT3</th>\n",
       "      <th>PAY_AMT4</th>\n",
       "      <th>PAY_AMT5</th>\n",
       "      <th>PAY_AMT6</th>\n",
       "    </tr>\n",
       "  </thead>\n",
       "  <tbody>\n",
       "    <tr>\n",
       "      <th>0</th>\n",
       "      <td>1</td>\n",
       "      <td>20000.0</td>\n",
       "      <td>2</td>\n",
       "      <td>2</td>\n",
       "      <td>1</td>\n",
       "      <td>24</td>\n",
       "      <td>2</td>\n",
       "      <td>2</td>\n",
       "      <td>-1</td>\n",
       "      <td>-1</td>\n",
       "      <td>-2</td>\n",
       "      <td>-2</td>\n",
       "      <td>3913.0</td>\n",
       "      <td>3102.0</td>\n",
       "      <td>689.0</td>\n",
       "      <td>0.0</td>\n",
       "      <td>0.0</td>\n",
       "      <td>0.0</td>\n",
       "      <td>0.0</td>\n",
       "      <td>689.0</td>\n",
       "      <td>0.0</td>\n",
       "      <td>0.0</td>\n",
       "      <td>0.0</td>\n",
       "      <td>0.0</td>\n",
       "    </tr>\n",
       "    <tr>\n",
       "      <th>1</th>\n",
       "      <td>2</td>\n",
       "      <td>120000.0</td>\n",
       "      <td>2</td>\n",
       "      <td>2</td>\n",
       "      <td>2</td>\n",
       "      <td>26</td>\n",
       "      <td>-1</td>\n",
       "      <td>2</td>\n",
       "      <td>0</td>\n",
       "      <td>0</td>\n",
       "      <td>0</td>\n",
       "      <td>2</td>\n",
       "      <td>2682.0</td>\n",
       "      <td>1725.0</td>\n",
       "      <td>2682.0</td>\n",
       "      <td>3272.0</td>\n",
       "      <td>3455.0</td>\n",
       "      <td>3261.0</td>\n",
       "      <td>0.0</td>\n",
       "      <td>1000.0</td>\n",
       "      <td>1000.0</td>\n",
       "      <td>1000.0</td>\n",
       "      <td>0.0</td>\n",
       "      <td>2000.0</td>\n",
       "    </tr>\n",
       "    <tr>\n",
       "      <th>2</th>\n",
       "      <td>3</td>\n",
       "      <td>90000.0</td>\n",
       "      <td>2</td>\n",
       "      <td>2</td>\n",
       "      <td>2</td>\n",
       "      <td>34</td>\n",
       "      <td>0</td>\n",
       "      <td>0</td>\n",
       "      <td>0</td>\n",
       "      <td>0</td>\n",
       "      <td>0</td>\n",
       "      <td>0</td>\n",
       "      <td>29239.0</td>\n",
       "      <td>14027.0</td>\n",
       "      <td>13559.0</td>\n",
       "      <td>14331.0</td>\n",
       "      <td>14948.0</td>\n",
       "      <td>15549.0</td>\n",
       "      <td>1518.0</td>\n",
       "      <td>1500.0</td>\n",
       "      <td>1000.0</td>\n",
       "      <td>1000.0</td>\n",
       "      <td>1000.0</td>\n",
       "      <td>5000.0</td>\n",
       "    </tr>\n",
       "    <tr>\n",
       "      <th>3</th>\n",
       "      <td>4</td>\n",
       "      <td>50000.0</td>\n",
       "      <td>2</td>\n",
       "      <td>2</td>\n",
       "      <td>1</td>\n",
       "      <td>37</td>\n",
       "      <td>0</td>\n",
       "      <td>0</td>\n",
       "      <td>0</td>\n",
       "      <td>0</td>\n",
       "      <td>0</td>\n",
       "      <td>0</td>\n",
       "      <td>46990.0</td>\n",
       "      <td>48233.0</td>\n",
       "      <td>49291.0</td>\n",
       "      <td>28314.0</td>\n",
       "      <td>28959.0</td>\n",
       "      <td>29547.0</td>\n",
       "      <td>2000.0</td>\n",
       "      <td>2019.0</td>\n",
       "      <td>1200.0</td>\n",
       "      <td>1100.0</td>\n",
       "      <td>1069.0</td>\n",
       "      <td>1000.0</td>\n",
       "    </tr>\n",
       "    <tr>\n",
       "      <th>4</th>\n",
       "      <td>5</td>\n",
       "      <td>50000.0</td>\n",
       "      <td>1</td>\n",
       "      <td>2</td>\n",
       "      <td>1</td>\n",
       "      <td>57</td>\n",
       "      <td>-1</td>\n",
       "      <td>0</td>\n",
       "      <td>-1</td>\n",
       "      <td>0</td>\n",
       "      <td>0</td>\n",
       "      <td>0</td>\n",
       "      <td>8617.0</td>\n",
       "      <td>5670.0</td>\n",
       "      <td>35835.0</td>\n",
       "      <td>20940.0</td>\n",
       "      <td>19146.0</td>\n",
       "      <td>19131.0</td>\n",
       "      <td>2000.0</td>\n",
       "      <td>36681.0</td>\n",
       "      <td>10000.0</td>\n",
       "      <td>9000.0</td>\n",
       "      <td>689.0</td>\n",
       "      <td>679.0</td>\n",
       "    </tr>\n",
       "  </tbody>\n",
       "</table>\n",
       "</div>"
      ],
      "text/plain": [
       "   ID  LIMIT_BAL  SEX  EDUCATION  MARRIAGE  AGE  PAY_0  PAY_2  PAY_3  PAY_4  \\\n",
       "0   1    20000.0    2          2         1   24      2      2     -1     -1   \n",
       "1   2   120000.0    2          2         2   26     -1      2      0      0   \n",
       "2   3    90000.0    2          2         2   34      0      0      0      0   \n",
       "3   4    50000.0    2          2         1   37      0      0      0      0   \n",
       "4   5    50000.0    1          2         1   57     -1      0     -1      0   \n",
       "\n",
       "   PAY_5  PAY_6  BILL_AMT1  BILL_AMT2  BILL_AMT3  BILL_AMT4  BILL_AMT5  \\\n",
       "0     -2     -2     3913.0     3102.0      689.0        0.0        0.0   \n",
       "1      0      2     2682.0     1725.0     2682.0     3272.0     3455.0   \n",
       "2      0      0    29239.0    14027.0    13559.0    14331.0    14948.0   \n",
       "3      0      0    46990.0    48233.0    49291.0    28314.0    28959.0   \n",
       "4      0      0     8617.0     5670.0    35835.0    20940.0    19146.0   \n",
       "\n",
       "   BILL_AMT6  PAY_AMT1  PAY_AMT2  PAY_AMT3  PAY_AMT4  PAY_AMT5  PAY_AMT6  \n",
       "0        0.0       0.0     689.0       0.0       0.0       0.0       0.0  \n",
       "1     3261.0       0.0    1000.0    1000.0    1000.0       0.0    2000.0  \n",
       "2    15549.0    1518.0    1500.0    1000.0    1000.0    1000.0    5000.0  \n",
       "3    29547.0    2000.0    2019.0    1200.0    1100.0    1069.0    1000.0  \n",
       "4    19131.0    2000.0   36681.0   10000.0    9000.0     689.0     679.0  "
      ]
     },
     "execution_count": 5,
     "metadata": {},
     "output_type": "execute_result"
    }
   ],
   "source": [
    "df.head()"
   ]
  },
  {
   "cell_type": "code",
   "execution_count": 6,
   "metadata": {},
   "outputs": [
    {
     "name": "stdout",
     "output_type": "stream",
     "text": [
      "==================================================\n",
      "CATEGORICAL DISTRIBUTIONS\n",
      "==================================================\n",
      "SEX values:\n",
      "SEX\n",
      "2    0.603733\n",
      "1    0.396267\n",
      "Name: proportion, dtype: float64\n",
      "\n",
      "Unique SEX values: [2 1]\n",
      "\n",
      "EDUCATION values:\n",
      "EDUCATION\n",
      "0       14\n",
      "1    10585\n",
      "2    14030\n",
      "3     4917\n",
      "4      123\n",
      "5      280\n",
      "6       51\n",
      "Name: count, dtype: int64\n",
      "Unique values: [2 1 3 5 4 6 0]\n",
      "\n",
      "MARRIAGE values:\n",
      "MARRIAGE\n",
      "0       54\n",
      "1    13659\n",
      "2    15964\n",
      "3      323\n",
      "Name: count, dtype: int64\n",
      "Unique values: [1 2 3 0]\n"
     ]
    }
   ],
   "source": [
    "# 1. Check value distributions for categorical columns\n",
    "print(\"=\"*50)\n",
    "print(\"CATEGORICAL DISTRIBUTIONS\")\n",
    "print(\"=\"*50)\n",
    "\n",
    "# SEX: 1=male, 2=female\n",
    "print(\"SEX values:\")\n",
    "print(df['SEX'].value_counts(normalize=True))\n",
    "print(\"\\nUnique SEX values:\", df['SEX'].unique())\n",
    "\n",
    "# EDUCATION: 1=graduate, 2=university, 3=high school, 4+=other\n",
    "print(\"\\nEDUCATION values:\")\n",
    "print(df['EDUCATION'].value_counts().sort_index())\n",
    "print(\"Unique values:\", df['EDUCATION'].unique())\n",
    "\n",
    "# MARRIAGE: 1=married, 2=single, 3=other\n",
    "print(\"\\nMARRIAGE values:\")\n",
    "print(df['MARRIAGE'].value_counts().sort_index())\n",
    "print(\"Unique values:\", df['MARRIAGE'].unique())"
   ]
  },
  {
   "cell_type": "code",
   "execution_count": 7,
   "metadata": {},
   "outputs": [
    {
     "name": "stdout",
     "output_type": "stream",
     "text": [
      "==================================================\n",
      "DATA QUALITY INVESTIGATION\n",
      "==================================================\n",
      "Records with EDUCATION=0:\n",
      "          ID  SEX  EDUCATION  MARRIAGE  AGE\n",
      "3769    3770    2          0         2   38\n",
      "5945    5946    1          0         2   39\n",
      "6876    6877    1          0         2   30\n",
      "14631  14632    2          0         2   53\n",
      "15107  15108    1          0         2   45\n",
      "\n",
      "Records with MARRIAGE=0:\n",
      "        ID  SEX  EDUCATION  MARRIAGE  AGE\n",
      "218    219    2          3         0   31\n",
      "809    810    2          2         0   37\n",
      "820    821    2          3         0   51\n",
      "1019  1020    2          3         0   45\n",
      "1443  1444    1          3         0   51\n",
      "\n",
      "Overlap between EDUCATION=0 and MARRIAGE=0: 0 records\n"
     ]
    }
   ],
   "source": [
    "# Further investigation of EDUCATION and MARRIAGE\n",
    "print(\"=\"*50)\n",
    "print(\"DATA QUALITY INVESTIGATION\")\n",
    "print(\"=\"*50)\n",
    "\n",
    "# Check if 0s appear together (might indicate missing records)\n",
    "print(\"Records with EDUCATION=0:\")\n",
    "print(df[df['EDUCATION'] == 0][['ID', 'SEX', 'EDUCATION', 'MARRIAGE', 'AGE']].head())\n",
    "\n",
    "print(\"\\nRecords with MARRIAGE=0:\")\n",
    "print(df[df['MARRIAGE'] == 0][['ID', 'SEX', 'EDUCATION', 'MARRIAGE', 'AGE']].head())\n",
    "\n",
    "# Check if these overlap\n",
    "edu_0 = set(df[df['EDUCATION'] == 0]['ID'])\n",
    "mar_0 = set(df[df['MARRIAGE'] == 0]['ID'])\n",
    "print(f\"\\nOverlap between EDUCATION=0 and MARRIAGE=0: {len(edu_0.intersection(mar_0))} records\")"
   ]
  },
  {
   "cell_type": "code",
   "execution_count": 8,
   "metadata": {},
   "outputs": [
    {
     "name": "stdout",
     "output_type": "stream",
     "text": [
      "==================================================\n",
      "PAYMENT STATUS DISTRIBUTIONS (CLEAN)\n",
      "==================================================\n",
      "\n",
      "PAY_0 unique values: [-2, -1, 0, 1, 2, 3, 4, 5, 6, 7, 8]\n",
      "\n",
      "PAY_2 unique values: [-2, -1, 0, 1, 2, 3, 4, 5, 6, 7, 8]\n",
      "\n",
      "PAY_3 unique values: [-2, -1, 0, 1, 2, 3, 4, 5, 6, 7, 8]\n",
      "\n",
      "PAY_4 unique values: [-2, -1, 0, 1, 2, 3, 4, 5, 6, 7, 8]\n",
      "\n",
      "PAY_5 unique values: [-2, -1, 0, 2, 3, 4, 5, 6, 7, 8]\n",
      "\n",
      "PAY_6 unique values: [-2, -1, 0, 2, 3, 4, 5, 6, 7, 8]\n"
     ]
    }
   ],
   "source": [
    "# Check payment status columns\n",
    "print(\"=\"*50)\n",
    "print(\"PAYMENT STATUS DISTRIBUTIONS (CLEAN)\")\n",
    "print(\"=\"*50)\n",
    "\n",
    "pay_cols = ['PAY_0', 'PAY_2', 'PAY_3', 'PAY_4', 'PAY_5', 'PAY_6']\n",
    "for col in pay_cols:\n",
    "    unique_vals = df[col].unique().tolist()  \n",
    "    unique_vals.sort()\n",
    "    print(f\"\\n{col} unique values: {unique_vals}\")"
   ]
  },
  {
   "cell_type": "code",
   "execution_count": 9,
   "metadata": {},
   "outputs": [
    {
     "name": "stdout",
     "output_type": "stream",
     "text": [
      "           BILL_AMT1       PAY_AMT1\n",
      "count    2759.000000    2759.000000\n",
      "mean     8793.052555    6477.920261\n",
      "std     28224.565390   20877.338447\n",
      "min    -15308.000000       0.000000\n",
      "25%         0.000000       0.000000\n",
      "50%      1179.000000    1131.000000\n",
      "75%      5819.000000    5000.000000\n",
      "max    478030.000000  368199.000000\n"
     ]
    }
   ],
   "source": [
    "# checking for -2 usage\n",
    "no_usage = df[df['PAY_0'] == -2]\n",
    "print(no_usage[['BILL_AMT1', 'PAY_AMT1']].describe())\n",
    "# If bills and payments are mostly 0, then -2 likely = no usage"
   ]
  },
  {
   "cell_type": "code",
   "execution_count": 14,
   "metadata": {},
   "outputs": [
    {
     "name": "stdout",
     "output_type": "stream",
     "text": [
      "Status -2 vs -1 comparison:\n",
      "\n",
      "-2 Status: 2759 customers\n",
      "  Avg balance: $8793\n",
      "  Avg payment: $6478\n",
      "\n",
      "-1 Status: 5686 customers\n",
      "  Avg balance: $10485\n",
      "  Avg payment: $7395\n",
      "\n",
      "-2 customers with negative bills: 209\n"
     ]
    }
   ],
   "source": [
    "# Compare -2 vs -1 customers\n",
    "print(\"Status -2 vs -1 comparison:\")\n",
    "status_neg1 = df[df['PAY_0'] == -1]\n",
    "status_neg2 = df[df['PAY_0'] == -2]\n",
    "\n",
    "print(f\"\\n-2 Status: {len(status_neg2)} customers\")\n",
    "print(f\"  Avg balance: ${status_neg2['BILL_AMT1'].mean():.0f}\")\n",
    "print(f\"  Avg payment: ${status_neg2['PAY_AMT1'].mean():.0f}\")\n",
    "\n",
    "print(f\"\\n-1 Status: {len(status_neg1)} customers\")  \n",
    "print(f\"  Avg balance: ${status_neg1['BILL_AMT1'].mean():.0f}\")\n",
    "print(f\"  Avg payment: ${status_neg1['PAY_AMT1'].mean():.0f}\")\n",
    "\n",
    "# Check if -2 customers have negative bills (credit balance)\n",
    "print(f\"\\n-2 customers with negative bills: {(status_neg2['BILL_AMT1'] < 0).sum()}\")"
   ]
  },
  {
   "cell_type": "code",
   "execution_count": 10,
   "metadata": {},
   "outputs": [
    {
     "name": "stdout",
     "output_type": "stream",
     "text": [
      "==================================================\n",
      "LOGICAL CONSISTENCY CHECKS\n",
      "==================================================\n",
      "Checking payment logic:\n",
      "\n",
      "People who paid in full in month 1:\n",
      "  Count: 6050\n",
      "  Their next month bill > 0: 5451\n",
      "\n",
      "People who paid in full in month 2:\n",
      "  Count: 6050\n",
      "  Their next month bill > 0: 5349\n",
      "\n",
      "People who paid in full in month 3:\n",
      "  Count: 5938\n",
      "  Their next month bill > 0: 5373\n",
      "\n",
      "People who paid in full in month 4:\n",
      "  Count: 5687\n",
      "  Their next month bill > 0: 5108\n",
      "\n",
      "People who paid in full in month 5:\n",
      "  Count: 5539\n",
      "  Their next month bill > 0: 4940\n"
     ]
    }
   ],
   "source": [
    "# Check for logical inconsistencies\n",
    "print(\"=\"*50)\n",
    "print(\"LOGICAL CONSISTENCY CHECKS\")\n",
    "print(\"=\"*50)\n",
    "\n",
    "# Check: If someone paid in full (PAY_X = -1), their next bill should reflect that\n",
    "print(\"Checking payment logic:\")\n",
    "for i in range(1, 6):\n",
    "    paid_full = df[df[f'PAY_{i+1 if i==1 else i}'] == -1]\n",
    "    print(f\"\\nPeople who paid in full in month {i}:\")\n",
    "    print(f\"  Count: {len(paid_full)}\")\n",
    "    print(f\"  Their next month bill > 0: {(paid_full[f'BILL_AMT{i}'] > 0).sum()}\")"
   ]
  },
  {
   "cell_type": "code",
   "execution_count": 11,
   "metadata": {},
   "outputs": [
    {
     "name": "stdout",
     "output_type": "stream",
     "text": [
      "==================================================\n",
      "DATA QUALITY SUMMARY\n",
      "==================================================\n",
      "Issues to handle in staging:\n",
      "- 14 records with EDUCATION=0\n",
      "- 54 records with MARRIAGE=0\n"
     ]
    }
   ],
   "source": [
    "# Final summary of data quality issues found\n",
    "print(\"=\"*50)\n",
    "print(\"DATA QUALITY SUMMARY\")\n",
    "print(\"=\"*50)\n",
    "\n",
    "issues = []\n",
    "if df['ID'].duplicated().sum() > 0:\n",
    "    issues.append(f\"- {df['ID'].duplicated().sum()} duplicate IDs\")\n",
    "if (df['EDUCATION'] == 0).sum() > 0:\n",
    "    issues.append(f\"- {(df['EDUCATION'] == 0).sum()} records with EDUCATION=0\")\n",
    "if (df['MARRIAGE'] == 0).sum() > 0:\n",
    "    issues.append(f\"- {(df['MARRIAGE'] == 0).sum()} records with MARRIAGE=0\")\n",
    "\n",
    "print(\"Issues to handle in staging:\")\n",
    "for issue in issues:\n",
    "    print(issue)"
   ]
  },
  {
   "cell_type": "code",
   "execution_count": 12,
   "metadata": {},
   "outputs": [
    {
     "name": "stdout",
     "output_type": "stream",
     "text": [
      "==================================================\n",
      "EDA FINDINGS SUMMARY\n",
      "==================================================\n",
      "\n",
      "1. DATA SHAPE:\n",
      "   - 30,000 customers, 24 features\n",
      "   - No missing values\n",
      "   - No duplicate IDs\n",
      "\n",
      "2. DATA QUALITY ISSUES TO HANDLE:\n",
      "   - EDUCATION has undocumented value 0 (14 cases)\n",
      "   - MARRIAGE has undocumented value 0 (54 cases)\n",
      "   - PAY_5 and PAY_6 missing status=1 (one month late)\n",
      "\n",
      "3. KEY DISTRIBUTIONS:\n",
      "   - Gender: 18,112 female, 11,888 male\n",
      "   - Age range: 21 to 79 years\n",
      "   - Credit limits: NT$10,000 to NT$1,000,000\n",
      "\n",
      "4. PAYMENT BEHAVIOR (Most Recent Month):\n",
      "   - Paid in full: 5,686 (19.0%)\n",
      "   - Used revolving: 14,737 (49.1%)\n",
      "   - Late payments: 6,818 (22.7%)\n"
     ]
    }
   ],
   "source": [
    "# Final EDA Summary\n",
    "print(\"=\"*50)\n",
    "print(\"EDA FINDINGS SUMMARY\")\n",
    "print(\"=\"*50)\n",
    "\n",
    "print(\"\\n1. DATA SHAPE:\")\n",
    "print(f\"   - {df.shape[0]:,} customers, {df.shape[1]} features\")\n",
    "print(f\"   - No missing values\")\n",
    "print(f\"   - No duplicate IDs\")\n",
    "\n",
    "print(\"\\n2. DATA QUALITY ISSUES TO HANDLE:\")\n",
    "print(f\"   - EDUCATION has undocumented value 0 ({(df['EDUCATION']==0).sum()} cases)\")\n",
    "print(f\"   - MARRIAGE has undocumented value 0 ({(df['MARRIAGE']==0).sum()} cases)\")\n",
    "print(f\"   - PAY_5 and PAY_6 missing status=1 (one month late)\")\n",
    "\n",
    "print(\"\\n3. KEY DISTRIBUTIONS:\")\n",
    "print(f\"   - Gender: {(df['SEX']==2).sum():,} female, {(df['SEX']==1).sum():,} male\")\n",
    "print(f\"   - Age range: {df['AGE'].min()} to {df['AGE'].max()} years\")\n",
    "print(f\"   - Credit limits: NT${df['LIMIT_BAL'].min():,.0f} to NT${df['LIMIT_BAL'].max():,.0f}\")\n",
    "\n",
    "print(\"\\n4. PAYMENT BEHAVIOR (Most Recent Month):\")\n",
    "pay_0_dist = df['PAY_0'].value_counts()\n",
    "print(f\"   - Paid in full: {pay_0_dist.get(-1, 0):,} ({pay_0_dist.get(-1, 0)/len(df)*100:.1f}%)\")\n",
    "print(f\"   - Used revolving: {pay_0_dist.get(0, 0):,} ({pay_0_dist.get(0, 0)/len(df)*100:.1f}%)\")\n",
    "print(f\"   - Late payments: {df[df['PAY_0']>0]['PAY_0'].count():,} ({df[df['PAY_0']>0]['PAY_0'].count()/len(df)*100:.1f}%)\")"
   ]
  },
  {
   "cell_type": "code",
   "execution_count": 13,
   "metadata": {},
   "outputs": [
    {
     "name": "stdout",
     "output_type": "stream",
     "text": [
      "ID,LIMIT_BAL,SEX,EDUCATION,MARRIAGE,AGE,PAY_0,PAY_2,PAY_3,PAY_4,PAY_5,PAY_6,BILL_AMT1,BILL_AMT2,BILL\n",
      "1,20000,2,2,1,24,2,2,-1,-1,-2,-2,3913,3102,689,0,0,0,0,689,0,0,0,0\n",
      "2,120000,2,2,2,26,-1,2,0,0,0,2,2682,1725,2682,3272,3455,3261,0,1000,1000,1000,0,2000\n",
      "3,90000,2,2,2,34,0,0,0,0,0,0,29239,14027,13559,14331,14948,15549,1518,1500,1000,1000,1000,5000\n",
      "4,50000,2,2,1,37,0,0,0,0,0,0,46990,48233,49291,28314,28959,29547,2000,2019,1200,1100,1069,1000\n"
     ]
    }
   ],
   "source": [
    "# Check what's ACTUALLY in the original CSV file\n",
    "with open('/Users/rachelberger/Downloads/UCI_Credit_Card.csv', 'r') as f:\n",
    "    lines = [f.readline().strip() for i in range(5)]\n",
    "    for line in lines:\n",
    "        print(line[:100])  # First 100 characters of each line"
   ]
  },
  {
   "cell_type": "markdown",
   "metadata": {},
   "source": [
    "- data types should be specified explicitly through seeds/schema.yml to upload to BigQuery"
   ]
  },
  {
   "cell_type": "markdown",
   "metadata": {},
   "source": []
  }
 ],
 "metadata": {
  "kernelspec": {
   "display_name": "venv",
   "language": "python",
   "name": "python3"
  },
  "language_info": {
   "codemirror_mode": {
    "name": "ipython",
    "version": 3
   },
   "file_extension": ".py",
   "mimetype": "text/x-python",
   "name": "python",
   "nbconvert_exporter": "python",
   "pygments_lexer": "ipython3",
   "version": "3.12.10"
  }
 },
 "nbformat": 4,
 "nbformat_minor": 2
}
